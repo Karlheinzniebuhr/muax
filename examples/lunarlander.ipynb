{
  "cells": [
    {
      "cell_type": "code",
      "execution_count": null,
      "metadata": {
        "id": "UdPSwwBKjw39"
      },
      "outputs": [],
      "source": [
        "!pip install muax\n",
        "!pip install gymnasium[box2d]"
      ]
    },
    {
      "cell_type": "code",
      "execution_count": null,
      "metadata": {
        "id": "46MVX4FDjw3_"
      },
      "outputs": [],
      "source": [
        "import jax \n",
        "from jax import numpy as jnp\n",
        "jax.config.update('jax_platform_name', 'cpu')\n",
        "\n",
        "import muax\n",
        "from muax import nn "
      ]
    },
    {
      "cell_type": "code",
      "execution_count": null,
      "metadata": {
        "id": "EB1-ilu8jw3_"
      },
      "outputs": [],
      "source": [
        "import haiku as hk\n",
        "\n",
        "class Representation(hk.Module):\n",
        "  def __init__(self, embedding_dim, name='representation'):\n",
        "    super().__init__(name=name)\n",
        "\n",
        "    self.repr_func = hk.Sequential([\n",
        "        hk.Linear(embedding_dim), \n",
        "        # jax.nn.elu,\n",
        "    ])\n",
        "\n",
        "  def __call__(self, obs):\n",
        "    s = self.repr_func(obs)\n",
        "    return s \n",
        "\n",
        "\n",
        "class Prediction(hk.Module):\n",
        "  def __init__(self, num_actions, full_support_size, name='prediction'):\n",
        "    super().__init__(name=name)        \n",
        "    \n",
        "    self.v_func = hk.Sequential([\n",
        "        hk.Linear(64), jax.nn.elu,\n",
        "        hk.Linear(64), jax.nn.elu,\n",
        "        hk.Linear(16), jax.nn.elu,\n",
        "        hk.Linear(full_support_size)\n",
        "    ])\n",
        "    self.pi_func = hk.Sequential([\n",
        "        hk.Linear(64), jax.nn.elu,\n",
        "        hk.Linear(64), jax.nn.elu,\n",
        "        hk.Linear(16), jax.nn.elu,\n",
        "        hk.Linear(num_actions)\n",
        "    ])\n",
        "  \n",
        "  def __call__(self, s):\n",
        "    v = self.v_func(s)\n",
        "    logits = self.pi_func(s)\n",
        "    logits = jax.nn.softmax(logits, axis=-1)\n",
        "    return v, logits\n",
        "\n",
        "\n",
        "class Dynamic(hk.Module):\n",
        "  def __init__(self, embedding_dim, num_actions, full_support_size, name='dynamic'):\n",
        "    super().__init__(name=name)\n",
        "    \n",
        "    self.ns_func = hk.Sequential([\n",
        "        hk.Linear(64), jax.nn.elu,\n",
        "        hk.Linear(64), jax.nn.elu,\n",
        "        hk.Linear(16), jax.nn.elu,\n",
        "        hk.Linear(embedding_dim)\n",
        "    ])\n",
        "    self.r_func = hk.Sequential([\n",
        "        hk.Linear(64), jax.nn.elu,\n",
        "        hk.Linear(64), jax.nn.elu,\n",
        "        hk.Linear(16), jax.nn.elu,\n",
        "        hk.Linear(full_support_size)\n",
        "    ])\n",
        "    self.cat_func = jax.jit(lambda s, a: \n",
        "                            jnp.concatenate([s, jax.nn.one_hot(a, num_actions)],\n",
        "                                            axis=1)\n",
        "                            )\n",
        "  \n",
        "  def __call__(self, s, a):\n",
        "    sa = self.cat_func(s, a)\n",
        "    r = self.r_func(sa)\n",
        "    ns = self.ns_func(sa)\n",
        "    return r, ns\n",
        "\n",
        "\n",
        "def init_representation_func(representation_module, embedding_dim):\n",
        "    def representation_func(obs):\n",
        "      repr_model = representation_module(embedding_dim)\n",
        "      return repr_model(obs)\n",
        "    return representation_func\n",
        "  \n",
        "def init_prediction_func(prediction_module, num_actions, full_support_size):\n",
        "  def prediction_func(s):\n",
        "    pred_model = prediction_module(num_actions, full_support_size)\n",
        "    return pred_model(s)\n",
        "  return prediction_func\n",
        "\n",
        "def init_dynamic_func(dynamic_module, embedding_dim, num_actions, full_support_size):\n",
        "  def dynamic_func(s, a):\n",
        "    dy_model = dynamic_module(embedding_dim, num_actions, full_support_size)\n",
        "    return dy_model(s, a)\n",
        "  return dynamic_func "
      ]
    },
    {
      "cell_type": "code",
      "execution_count": null,
      "metadata": {
        "id": "LI8IMdRNjw4A"
      },
      "outputs": [],
      "source": [
        "i = 1\n",
        "support_size = 20\n",
        "embedding_size = 10\n",
        "full_support_size = int(support_size * 2 + 1)\n",
        "num_actions = 4\n",
        "\n",
        "repr_fn = init_representation_func(Representation, embedding_size)\n",
        "pred_fn = init_prediction_func(Prediction, num_actions, full_support_size)\n",
        "dy_fn = init_dynamic_func(Dynamic, embedding_size, num_actions, full_support_size)\n",
        "\n",
        "tracer = muax.PNStep(50, 0.999, 0.5)\n",
        "buffer = muax.TrajectoryReplayBuffer(500)\n",
        "\n",
        "gradient_transform = muax.model.optimizer(init_value=0.002, peak_value=0.002, end_value=0.0005, warmup_steps=20000, transition_steps=20000)\n",
        "\n",
        "model = muax.MuZero(repr_fn, pred_fn, dy_fn, policy='muzero', discount=0.999,\n",
        "                    optimizer=gradient_transform, support_size=support_size)\n",
        "\n",
        "model_path = muax.fit(model, 'LunarLander-v2', \n",
        "                max_episodes=1000,\n",
        "                max_training_steps=60000,\n",
        "                tracer=tracer,\n",
        "                buffer=buffer,\n",
        "                k_steps=10,\n",
        "                sample_per_trajectory=1,\n",
        "                buffer_warm_up=128,\n",
        "                num_trajectory=128,\n",
        "                tensorboard_dir='/content/data/tensorboard/',\n",
        "                save_name='model_params',\n",
        "                random_seed=i,\n",
        "                log_all_metrics=True)"
      ]
    },
    {
      "cell_type": "code",
      "execution_count": null,
      "metadata": {
        "id": "2Gc-jMf_jw4B"
      },
      "outputs": [],
      "source": [
        "model_path"
      ]
    },
    {
      "cell_type": "code",
      "execution_count": null,
      "metadata": {
        "id": "nCU4S9DKjw4B"
      },
      "outputs": [],
      "source": [
        "model = muax.MuZero(repr_fn, pred_fn, dy_fn, policy='muzero', discount=discount,\n",
        "                    optimizer=gradient_transform, support_size=support_size)\n",
        "\n",
        "model.load(model_path)"
      ]
    },
    {
      "cell_type": "code",
      "execution_count": null,
      "metadata": {
        "id": "nFtvAnUhjw4B"
      },
      "outputs": [],
      "source": [
        "import gymnasium as gym \n",
        "from muax.test import test\n",
        "env_id = 'LunarLander-v2'\n",
        "test_env = gym.make(env_id, render_mode='rgb_array')\n",
        "test_key = jax.random.PRNGKey(0)\n",
        "test(model, test_env, test_key, num_simulations=50, num_test_episodes=100, random_seed=None)"
      ]
    },
    {
      "cell_type": "code",
      "execution_count": null,
      "metadata": {
        "id": "ykuhQL8ojw4B"
      },
      "outputs": [],
      "source": []
    }
  ],
  "metadata": {
    "colab": {
      "machine_shape": "hm",
      "provenance": []
    },
    "gpuClass": "standard",
    "kernelspec": {
      "display_name": "base",
      "language": "python",
      "name": "python3"
    },
    "language_info": {
      "codemirror_mode": {
        "name": "ipython",
        "version": 3
      },
      "file_extension": ".py",
      "mimetype": "text/x-python",
      "name": "python",
      "nbconvert_exporter": "python",
      "pygments_lexer": "ipython3",
      "version": "3.7.12"
    },
    "orig_nbformat": 4
  },
  "nbformat": 4,
  "nbformat_minor": 0
}
